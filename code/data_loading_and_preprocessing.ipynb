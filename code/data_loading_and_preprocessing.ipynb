{
 "cells": [
  {
   "cell_type": "markdown",
   "metadata": {},
   "source": [
    "## Loading in Dataest\n",
    "\n",
    "The below cell will hold the code that contains the data that will be used to train our convolutional neural network on classifying pokemon types based on their image. The /images subdirectory will contain the Image files and the \"pokemon.csv\" file which is a .csv file containg Pokemon Names and their respective Typings"
   ]
  },
  {
   "cell_type": "code",
   "execution_count": null,
   "metadata": {},
   "outputs": [],
   "source": [
    "#"
   ]
  }
 ],
 "metadata": {
  "language_info": {
   "name": "python"
  }
 },
 "nbformat": 4,
 "nbformat_minor": 2
}
