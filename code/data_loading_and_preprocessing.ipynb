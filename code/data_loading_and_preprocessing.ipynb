{
 "cells": [
  {
   "cell_type": "markdown",
   "metadata": {},
   "source": [
    "## Loading in Dataest\n",
    "\n",
    "The below cell will hold the code that contains the data that will be used to train our convolutional neural network on classifying pokemon types based on their image. The /images subdirectory will contain the Image files and the \"pokemon.csv\" file which is a .csv file containg Pokemon Names and their respective Typings"
   ]
  },
  {
   "cell_type": "code",
   "execution_count": 4,
   "metadata": {},
   "outputs": [],
   "source": [
    "# Import neccessary packages\n",
    "import os \n",
    "import pandas as pd"
   ]
  },
  {
   "cell_type": "code",
   "execution_count": 5,
   "metadata": {},
   "outputs": [],
   "source": [
    "# Helper function to get the file path for the images subdirectory\n",
    "prefix = './data/images/'\n",
    "def get_image_path(name):\n",
    "  for ext in ['.png', '.jpg']:\n",
    "    potential_path = os.path.join(prefix, name + ext)\n",
    "    if os.path.exists(potential_path):\n",
    "      return potential_path"
   ]
  },
  {
   "cell_type": "code",
   "execution_count": 8,
   "metadata": {},
   "outputs": [],
   "source": [
    "# Read in .csv file \n",
    "pokemon_df = pd.read_csv('./data/pokemon.csv')\n",
    "\n",
    "# Append file path to dataframe, map each pokemons name to it's image file\n",
    "pokemon_df['Image'] = pokemon_df['Name'].apply(get_image_path)\n",
    "\n",
    "# Narrow down the dataframe to single types, we will deal with dual types later\n",
    "pokemon_df = pokemon_df[['Name', 'Type1', 'Image']]\n",
    "pokemon_df.rename(columns={'Type1' : 'Type'}, inplace=True)"
   ]
  },
  {
   "cell_type": "code",
   "execution_count": 9,
   "metadata": {},
   "outputs": [
    {
     "data": {
      "text/html": [
       "<div>\n",
       "<style scoped>\n",
       "    .dataframe tbody tr th:only-of-type {\n",
       "        vertical-align: middle;\n",
       "    }\n",
       "\n",
       "    .dataframe tbody tr th {\n",
       "        vertical-align: top;\n",
       "    }\n",
       "\n",
       "    .dataframe thead th {\n",
       "        text-align: right;\n",
       "    }\n",
       "</style>\n",
       "<table border=\"1\" class=\"dataframe\">\n",
       "  <thead>\n",
       "    <tr style=\"text-align: right;\">\n",
       "      <th></th>\n",
       "      <th>Name</th>\n",
       "      <th>Type</th>\n",
       "      <th>Image</th>\n",
       "    </tr>\n",
       "  </thead>\n",
       "  <tbody>\n",
       "    <tr>\n",
       "      <th>0</th>\n",
       "      <td>bulbasaur</td>\n",
       "      <td>Grass</td>\n",
       "      <td>./data/images/bulbasaur.png</td>\n",
       "    </tr>\n",
       "    <tr>\n",
       "      <th>1</th>\n",
       "      <td>ivysaur</td>\n",
       "      <td>Grass</td>\n",
       "      <td>./data/images/ivysaur.png</td>\n",
       "    </tr>\n",
       "    <tr>\n",
       "      <th>2</th>\n",
       "      <td>venusaur</td>\n",
       "      <td>Grass</td>\n",
       "      <td>./data/images/venusaur.png</td>\n",
       "    </tr>\n",
       "    <tr>\n",
       "      <th>3</th>\n",
       "      <td>charmander</td>\n",
       "      <td>Fire</td>\n",
       "      <td>./data/images/charmander.png</td>\n",
       "    </tr>\n",
       "    <tr>\n",
       "      <th>4</th>\n",
       "      <td>charmeleon</td>\n",
       "      <td>Fire</td>\n",
       "      <td>./data/images/charmeleon.png</td>\n",
       "    </tr>\n",
       "    <tr>\n",
       "      <th>...</th>\n",
       "      <td>...</td>\n",
       "      <td>...</td>\n",
       "      <td>...</td>\n",
       "    </tr>\n",
       "    <tr>\n",
       "      <th>804</th>\n",
       "      <td>stakataka</td>\n",
       "      <td>Rock</td>\n",
       "      <td>./data/images/stakataka.jpg</td>\n",
       "    </tr>\n",
       "    <tr>\n",
       "      <th>805</th>\n",
       "      <td>blacephalon</td>\n",
       "      <td>Fire</td>\n",
       "      <td>./data/images/blacephalon.jpg</td>\n",
       "    </tr>\n",
       "    <tr>\n",
       "      <th>806</th>\n",
       "      <td>zeraora</td>\n",
       "      <td>Electric</td>\n",
       "      <td>./data/images/zeraora.jpg</td>\n",
       "    </tr>\n",
       "    <tr>\n",
       "      <th>807</th>\n",
       "      <td>meltan</td>\n",
       "      <td>Steel</td>\n",
       "      <td>./data/images/meltan.jpg</td>\n",
       "    </tr>\n",
       "    <tr>\n",
       "      <th>808</th>\n",
       "      <td>melmetal</td>\n",
       "      <td>Steel</td>\n",
       "      <td>./data/images/melmetal.jpg</td>\n",
       "    </tr>\n",
       "  </tbody>\n",
       "</table>\n",
       "<p>809 rows × 3 columns</p>\n",
       "</div>"
      ],
      "text/plain": [
       "            Name      Type                          Image\n",
       "0      bulbasaur     Grass    ./data/images/bulbasaur.png\n",
       "1        ivysaur     Grass      ./data/images/ivysaur.png\n",
       "2       venusaur     Grass     ./data/images/venusaur.png\n",
       "3     charmander      Fire   ./data/images/charmander.png\n",
       "4     charmeleon      Fire   ./data/images/charmeleon.png\n",
       "..           ...       ...                            ...\n",
       "804    stakataka      Rock    ./data/images/stakataka.jpg\n",
       "805  blacephalon      Fire  ./data/images/blacephalon.jpg\n",
       "806      zeraora  Electric      ./data/images/zeraora.jpg\n",
       "807       meltan     Steel       ./data/images/meltan.jpg\n",
       "808     melmetal     Steel     ./data/images/melmetal.jpg\n",
       "\n",
       "[809 rows x 3 columns]"
      ]
     },
     "metadata": {},
     "output_type": "display_data"
    }
   ],
   "source": [
    "display(pokemon_df)"
   ]
  },
  {
   "cell_type": "markdown",
   "metadata": {},
   "source": [
    "## Machine Learning Models and One Hot Encoding\n",
    "\n",
    "Machine Learning models don't deal well with categorical data, which in this case is our 'Type' variable, a qualitative label which is providing information about the pokemon, such as it's strengths and weaknesses. My first thought when learning about this was to create a dictionary mapping integers to each type of pokemon, which is called \"Integer Encoding\" - but after researching it more I learned it could lead to the model giving preference to certain types, i.e. Imagine the dictionary:\n",
    "\n",
    "```Python\n",
    "type_dict = {\n",
    "  'Fire': 1,\n",
    "  'Water':2\n",
    "}\n",
    "```\n",
    "\n",
    "This could lead to the model developing a bias towards identifying pokemon's types as fire. So I learned about One Hot Encoding. i.e. Creating bitstrings in order to represent what type the pokemon is (it's primary type for now). We will create a column for each type, and each pokemon will have a '1' in the column corresponding to it's type, and a '0' in every other column. "
   ]
  }
 ],
 "metadata": {
  "kernelspec": {
   "display_name": "pokemon_classification",
   "language": "python",
   "name": "python3"
  },
  "language_info": {
   "codemirror_mode": {
    "name": "ipython",
    "version": 3
   },
   "file_extension": ".py",
   "mimetype": "text/x-python",
   "name": "python",
   "nbconvert_exporter": "python",
   "pygments_lexer": "ipython3",
   "version": "3.9.18"
  }
 },
 "nbformat": 4,
 "nbformat_minor": 2
}
